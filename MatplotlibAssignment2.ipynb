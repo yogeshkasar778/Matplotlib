{
 "cells": [
  {
   "cell_type": "markdown",
   "id": "dbb5465e-b66f-4c48-9b61-bc2544ffd4a3",
   "metadata": {},
   "source": [
    "# Data Visualization with Matplotlib Assignment:"
   ]
  },
  {
   "cell_type": "markdown",
   "id": "25663c35-f5ae-4556-8a9b-084e8f124118",
   "metadata": {},
   "source": [
    "**Problem Statement:**\n",
    "\n",
    "You work in XYZ Company as a Python. The company officials want you to build a python program. "
   ]
  },
  {
   "cell_type": "markdown",
   "id": "67a2b853-8c1c-419b-89af-994b058e5fd2",
   "metadata": {},
   "source": [
    "**Tasks to be performed:**\n",
    "1. Load cars data as dataframe using pandas and create a bar plot between number of cylinders\n",
    "and frequency of cars with that many number of cylinders.\n",
    "- Set xlabel as Number of cylinders.\n",
    "- Set ylabel as Frequency of cars.\n",
    " - Draw a bar plot.\n"
   ]
  },
  {
   "cell_type": "code",
   "execution_count": 23,
   "id": "4880a033-2e9a-45c7-bbd2-f5f77aec3008",
   "metadata": {},
   "outputs": [],
   "source": [
    "#importing the libraries\n",
    "import pandas as pd\n",
    "from matplotlib import pyplot as plt\n",
    "import numpy as np"
   ]
  },
  {
   "cell_type": "code",
   "execution_count": 27,
   "id": "5836f7a0-4490-42b6-b4d6-e6f99047e996",
   "metadata": {},
   "outputs": [],
   "source": [
    "cars=pd.read_csv(\"cars-6.csv\")"
   ]
  },
  {
   "cell_type": "code",
   "execution_count": 28,
   "id": "e302e267-975e-4b47-b0bc-028212510068",
   "metadata": {},
   "outputs": [
    {
     "data": {
      "text/html": [
       "<div>\n",
       "<style scoped>\n",
       "    .dataframe tbody tr th:only-of-type {\n",
       "        vertical-align: middle;\n",
       "    }\n",
       "\n",
       "    .dataframe tbody tr th {\n",
       "        vertical-align: top;\n",
       "    }\n",
       "\n",
       "    .dataframe thead th {\n",
       "        text-align: right;\n",
       "    }\n",
       "</style>\n",
       "<table border=\"1\" class=\"dataframe\">\n",
       "  <thead>\n",
       "    <tr style=\"text-align: right;\">\n",
       "      <th></th>\n",
       "      <th>model</th>\n",
       "      <th>mpg</th>\n",
       "      <th>cyl</th>\n",
       "      <th>disp</th>\n",
       "      <th>hp</th>\n",
       "      <th>drat</th>\n",
       "      <th>wt</th>\n",
       "      <th>qsec</th>\n",
       "      <th>vs</th>\n",
       "      <th>am</th>\n",
       "      <th>gear</th>\n",
       "      <th>carb</th>\n",
       "    </tr>\n",
       "  </thead>\n",
       "  <tbody>\n",
       "    <tr>\n",
       "      <th>0</th>\n",
       "      <td>Mazda RX4</td>\n",
       "      <td>21.0</td>\n",
       "      <td>6</td>\n",
       "      <td>160.0</td>\n",
       "      <td>110</td>\n",
       "      <td>3.90</td>\n",
       "      <td>2.620</td>\n",
       "      <td>16.46</td>\n",
       "      <td>0</td>\n",
       "      <td>1</td>\n",
       "      <td>4</td>\n",
       "      <td>4</td>\n",
       "    </tr>\n",
       "    <tr>\n",
       "      <th>1</th>\n",
       "      <td>Mazda RX4 Wag</td>\n",
       "      <td>21.0</td>\n",
       "      <td>6</td>\n",
       "      <td>160.0</td>\n",
       "      <td>110</td>\n",
       "      <td>3.90</td>\n",
       "      <td>2.875</td>\n",
       "      <td>17.02</td>\n",
       "      <td>0</td>\n",
       "      <td>1</td>\n",
       "      <td>4</td>\n",
       "      <td>4</td>\n",
       "    </tr>\n",
       "    <tr>\n",
       "      <th>2</th>\n",
       "      <td>Datsun 710</td>\n",
       "      <td>22.8</td>\n",
       "      <td>4</td>\n",
       "      <td>108.0</td>\n",
       "      <td>93</td>\n",
       "      <td>3.85</td>\n",
       "      <td>2.320</td>\n",
       "      <td>18.61</td>\n",
       "      <td>1</td>\n",
       "      <td>1</td>\n",
       "      <td>4</td>\n",
       "      <td>1</td>\n",
       "    </tr>\n",
       "    <tr>\n",
       "      <th>3</th>\n",
       "      <td>Hornet 4 Drive</td>\n",
       "      <td>21.4</td>\n",
       "      <td>6</td>\n",
       "      <td>258.0</td>\n",
       "      <td>110</td>\n",
       "      <td>3.08</td>\n",
       "      <td>3.215</td>\n",
       "      <td>19.44</td>\n",
       "      <td>1</td>\n",
       "      <td>0</td>\n",
       "      <td>3</td>\n",
       "      <td>1</td>\n",
       "    </tr>\n",
       "    <tr>\n",
       "      <th>4</th>\n",
       "      <td>Hornet Sportabout</td>\n",
       "      <td>18.7</td>\n",
       "      <td>8</td>\n",
       "      <td>360.0</td>\n",
       "      <td>175</td>\n",
       "      <td>3.15</td>\n",
       "      <td>3.440</td>\n",
       "      <td>17.02</td>\n",
       "      <td>0</td>\n",
       "      <td>0</td>\n",
       "      <td>3</td>\n",
       "      <td>2</td>\n",
       "    </tr>\n",
       "  </tbody>\n",
       "</table>\n",
       "</div>"
      ],
      "text/plain": [
       "               model   mpg  cyl   disp   hp  drat     wt   qsec  vs  am  gear  \\\n",
       "0          Mazda RX4  21.0    6  160.0  110  3.90  2.620  16.46   0   1     4   \n",
       "1      Mazda RX4 Wag  21.0    6  160.0  110  3.90  2.875  17.02   0   1     4   \n",
       "2         Datsun 710  22.8    4  108.0   93  3.85  2.320  18.61   1   1     4   \n",
       "3     Hornet 4 Drive  21.4    6  258.0  110  3.08  3.215  19.44   1   0     3   \n",
       "4  Hornet Sportabout  18.7    8  360.0  175  3.15  3.440  17.02   0   0     3   \n",
       "\n",
       "   carb  \n",
       "0     4  \n",
       "1     4  \n",
       "2     1  \n",
       "3     1  \n",
       "4     2  "
      ]
     },
     "execution_count": 28,
     "metadata": {},
     "output_type": "execute_result"
    }
   ],
   "source": [
    "cars.head()"
   ]
  },
  {
   "cell_type": "code",
   "execution_count": 29,
   "id": "a2d93fbc-e55c-49ac-bd10-cb5776b5a39b",
   "metadata": {},
   "outputs": [
    {
     "data": {
      "text/plain": [
       "8    14\n",
       "4    11\n",
       "6     7\n",
       "Name: cyl, dtype: int64"
      ]
     },
     "execution_count": 29,
     "metadata": {},
     "output_type": "execute_result"
    }
   ],
   "source": [
    "cars['cyl'].value_counts()"
   ]
  },
  {
   "cell_type": "code",
   "execution_count": 30,
   "id": "83cfbbeb-2c5f-4aeb-b2e9-965b29fc9759",
   "metadata": {},
   "outputs": [
    {
     "data": {
      "text/plain": [
       "Int64Index([8, 4, 6], dtype='int64')"
      ]
     },
     "execution_count": 30,
     "metadata": {},
     "output_type": "execute_result"
    }
   ],
   "source": [
    "cars['cyl'].value_counts().keys()"
   ]
  },
  {
   "cell_type": "code",
   "execution_count": 31,
   "id": "a820a2f7-6a47-4819-84f2-9a0ed20ae9ac",
   "metadata": {},
   "outputs": [
    {
     "data": {
      "image/png": "[encoded data removed]",
      "text/plain": [
       "<Figure size 640x480 with 1 Axes>"
      ]
     },
     "metadata": {},
     "output_type": "display_data"
    }
   ],
   "source": [
    "#create a bar plot between number of cylindersand frequency of cars with that many number of cylinders.\n",
    "plt.bar(cars['cyl'].value_counts().keys().tolist(),cars['cyl'].value_counts().tolist())\n",
    "#Set xlabel as Number of cylinders.\n",
    "plt.xlabel(\"Number of cylineders\")\n",
    "#Set ylabel as Frequency of cars.\n",
    "plt.ylabel(\"Frequency of cars\")\n",
    "#Set title Distribution of cars.\n",
    "plt.title(\"Distribution of cars\")\n",
    "plt.show()"
   ]
  },
  {
   "cell_type": "markdown",
   "id": "98b4bc39-8e4e-4f6f-8e63-ee6cecbd7e69",
   "metadata": {},
   "source": [
    "2. Write code to load data from cars and print a bar graph of count of columns with null values."
   ]
  },
  {
   "cell_type": "code",
   "execution_count": 32,
   "id": "a5d40af5-7522-4cbe-aca7-aa629a56b8ca",
   "metadata": {},
   "outputs": [
    {
     "name": "stdout",
     "output_type": "stream",
     "text": [
      "<class 'pandas.core.frame.DataFrame'>\n",
      "RangeIndex: 32 entries, 0 to 31\n",
      "Data columns (total 12 columns):\n",
      " #   Column  Non-Null Count  Dtype  \n",
      "---  ------  --------------  -----  \n",
      " 0   model   32 non-null     object \n",
      " 1   mpg     32 non-null     float64\n",
      " 2   cyl     32 non-null     int64  \n",
      " 3   disp    32 non-null     float64\n",
      " 4   hp      32 non-null     int64  \n",
      " 5   drat    32 non-null     float64\n",
      " 6   wt      32 non-null     float64\n",
      " 7   qsec    32 non-null     float64\n",
      " 8   vs      32 non-null     int64  \n",
      " 9   am      32 non-null     int64  \n",
      " 10  gear    32 non-null     int64  \n",
      " 11  carb    32 non-null     int64  \n",
      "dtypes: float64(5), int64(6), object(1)\n",
      "memory usage: 3.1+ KB\n"
     ]
    }
   ],
   "source": [
    "#counts with null values\n",
    "cars.info()"
   ]
  },
  {
   "cell_type": "code",
   "execution_count": 33,
   "id": "a3084065-6557-402f-b016-b051473842d0",
   "metadata": {},
   "outputs": [
    {
     "data": {
      "text/plain": [
       "model                mpg   cyl  disp   hp   drat  wt     qsec   vs  am  gear  carb\n",
       "AMC Javelin          15.2  8    304.0  150  3.15  3.435  17.30  0   0   3     2       1\n",
       "Cadillac Fleetwood   10.4  8    472.0  205  2.93  5.250  17.98  0   0   3     4       1\n",
       "Valiant              18.1  6    225.0  105  2.76  3.460  20.22  1   0   3     1       1\n",
       "Toyota Corona        21.5  4    120.1  97   3.70  2.465  20.01  1   0   3     1       1\n",
       "Toyota Corolla       33.9  4    71.1   65   4.22  1.835  19.90  1   1   4     1       1\n",
       "Porsche 914-2        26.0  4    120.3  91   4.43  2.140  16.70  0   1   5     2       1\n",
       "Pontiac Firebird     19.2  8    400.0  175  3.08  3.845  17.05  0   0   3     2       1\n",
       "Merc 450SLC          15.2  8    275.8  180  3.07  3.780  18.00  0   0   3     3       1\n",
       "Merc 450SL           17.3  8    275.8  180  3.07  3.730  17.60  0   0   3     3       1\n",
       "Merc 450SE           16.4  8    275.8  180  3.07  4.070  17.40  0   0   3     3       1\n",
       "Merc 280C            17.8  6    167.6  123  3.92  3.440  18.90  1   0   4     4       1\n",
       "Merc 280             19.2  6    167.6  123  3.92  3.440  18.30  1   0   4     4       1\n",
       "Merc 240D            24.4  4    146.7  62   3.69  3.190  20.00  1   0   4     2       1\n",
       "Merc 230             22.8  4    140.8  95   3.92  3.150  22.90  1   0   4     2       1\n",
       "Mazda RX4 Wag        21.0  6    160.0  110  3.90  2.875  17.02  0   1   4     4       1\n",
       "Mazda RX4            21.0  6    160.0  110  3.90  2.620  16.46  0   1   4     4       1\n",
       "Maserati Bora        15.0  8    301.0  335  3.54  3.570  14.60  0   1   5     8       1\n",
       "Lotus Europa         30.4  4    95.1   113  3.77  1.513  16.90  1   1   5     2       1\n",
       "Lincoln Continental  10.4  8    460.0  215  3.00  5.424  17.82  0   0   3     4       1\n",
       "Hornet Sportabout    18.7  8    360.0  175  3.15  3.440  17.02  0   0   3     2       1\n",
       "Hornet 4 Drive       21.4  6    258.0  110  3.08  3.215  19.44  1   0   3     1       1\n",
       "Honda Civic          30.4  4    75.7   52   4.93  1.615  18.52  1   1   4     2       1\n",
       "Ford Pantera L       15.8  8    351.0  264  4.22  3.170  14.50  0   1   5     4       1\n",
       "Fiat X1-9            27.3  4    79.0   66   4.08  1.935  18.90  1   1   4     1       1\n",
       "Fiat 128             32.4  4    78.7   66   4.08  2.200  19.47  1   1   4     1       1\n",
       "Ferrari Dino         19.7  6    145.0  175  3.62  2.770  15.50  0   1   5     6       1\n",
       "Duster 360           14.3  8    360.0  245  3.21  3.570  15.84  0   0   3     4       1\n",
       "Dodge Challenger     15.5  8    318.0  150  2.76  3.520  16.87  0   0   3     2       1\n",
       "Datsun 710           22.8  4    108.0  93   3.85  2.320  18.61  1   1   4     1       1\n",
       "Chrysler Imperial    14.7  8    440.0  230  3.23  5.345  17.42  0   0   3     4       1\n",
       "Camaro Z28           13.3  8    350.0  245  3.73  3.840  15.41  0   0   3     4       1\n",
       "Volvo 142E           21.4  4    121.0  109  4.11  2.780  18.60  1   1   4     2       1\n",
       "dtype: int64"
      ]
     },
     "execution_count": 33,
     "metadata": {},
     "output_type": "execute_result"
    }
   ],
   "source": [
    "cars.value_counts()"
   ]
  },
  {
   "cell_type": "code",
   "execution_count": 34,
   "id": "dda561c2-fffa-473e-a1ad-f71e5f1eebe6",
   "metadata": {},
   "outputs": [
    {
     "data": {
      "text/plain": [
       "MultiIndex([(        'AMC Javelin', 15.2, 8, 304.0, 150, 3.15, 3.435, ...),\n",
       "            ( 'Cadillac Fleetwood', 10.4, 8, 472.0, 205, 2.93,  5.25, ...),\n",
       "            (            'Valiant', 18.1, 6, 225.0, 105, 2.76,  3.46, ...),\n",
       "            (      'Toyota Corona', 21.5, 4, 120.1,  97,  3.7, 2.465, ...),\n",
       "            (     'Toyota Corolla', 33.9, 4,  71.1,  65, 4.22, 1.835, ...),\n",
       "            (      'Porsche 914-2', 26.0, 4, 120.3,  91, 4.43,  2.14, ...),\n",
       "            (   'Pontiac Firebird', 19.2, 8, 400.0, 175, 3.08, 3.845, ...),\n",
       "            (        'Merc 450SLC', 15.2, 8, 275.8, 180, 3.07,  3.78, ...),\n",
       "            (         'Merc 450SL', 17.3, 8, 275.8, 180, 3.07,  3.73, ...),\n",
       "            (         'Merc 450SE', 16.4, 8, 275.8, 180, 3.07,  4.07, ...),\n",
       "            (          'Merc 280C', 17.8, 6, 167.6, 123, 3.92,  3.44, ...),\n",
       "            (           'Merc 280', 19.2, 6, 167.6, 123, 3.92,  3.44, ...),\n",
       "            (          'Merc 240D', 24.4, 4, 146.7,  62, 3.69,  3.19, ...),\n",
       "            (           'Merc 230', 22.8, 4, 140.8,  95, 3.92,  3.15, ...),\n",
       "            (      'Mazda RX4 Wag', 21.0, 6, 160.0, 110,  3.9, 2.875, ...),\n",
       "            (          'Mazda RX4', 21.0, 6, 160.0, 110,  3.9,  2.62, ...),\n",
       "            (      'Maserati Bora', 15.0, 8, 301.0, 335, 3.54,  3.57, ...),\n",
       "            (       'Lotus Europa', 30.4, 4,  95.1, 113, 3.77, 1.513, ...),\n",
       "            ('Lincoln Continental', 10.4, 8, 460.0, 215,  3.0, 5.424, ...),\n",
       "            (  'Hornet Sportabout', 18.7, 8, 360.0, 175, 3.15,  3.44, ...),\n",
       "            (     'Hornet 4 Drive', 21.4, 6, 258.0, 110, 3.08, 3.215, ...),\n",
       "            (        'Honda Civic', 30.4, 4,  75.7,  52, 4.93, 1.615, ...),\n",
       "            (     'Ford Pantera L', 15.8, 8, 351.0, 264, 4.22,  3.17, ...),\n",
       "            (          'Fiat X1-9', 27.3, 4,  79.0,  66, 4.08, 1.935, ...),\n",
       "            (           'Fiat 128', 32.4, 4,  78.7,  66, 4.08,   2.2, ...),\n",
       "            (       'Ferrari Dino', 19.7, 6, 145.0, 175, 3.62,  2.77, ...),\n",
       "            (         'Duster 360', 14.3, 8, 360.0, 245, 3.21,  3.57, ...),\n",
       "            (   'Dodge Challenger', 15.5, 8, 318.0, 150, 2.76,  3.52, ...),\n",
       "            (         'Datsun 710', 22.8, 4, 108.0,  93, 3.85,  2.32, ...),\n",
       "            (  'Chrysler Imperial', 14.7, 8, 440.0, 230, 3.23, 5.345, ...),\n",
       "            (         'Camaro Z28', 13.3, 8, 350.0, 245, 3.73,  3.84, ...),\n",
       "            (         'Volvo 142E', 21.4, 4, 121.0, 109, 4.11,  2.78, ...)],\n",
       "           names=['model', 'mpg', 'cyl', 'disp', 'hp', 'drat', 'wt', 'qsec', 'vs', 'am', 'gear', 'carb'])"
      ]
     },
     "execution_count": 34,
     "metadata": {},
     "output_type": "execute_result"
    }
   ],
   "source": [
    "cars.value_counts().keys()"
   ]
  },
  {
   "cell_type": "markdown",
   "id": "69eb2624-804f-4d1a-ab80-78ab0413f1e3",
   "metadata": {},
   "source": [
    "3. Use the 'mpg' (Miles Per Gallon column) and draw a histogram\n",
    "i. Set xlabel: Miles per gallon\n",
    "ii. Set ylabel: Frequency\n",
    "iii. Set title as Miles Per Gallon Histogram\n",
    "iv. Use mpg column to generate a histogram"
   ]
  },
  {
   "cell_type": "code",
   "execution_count": 40,
   "id": "3cadfa0e-f968-40d5-acae-b5a38cc79e34",
   "metadata": {},
   "outputs": [
    {
     "data": {
      "image/png": "[encoded data removed]",
      "text/plain": [
       "<Figure size 640x480 with 1 Axes>"
      ]
     },
     "metadata": {},
     "output_type": "display_data"
    }
   ],
   "source": [
    "#Use the 'mpg' (Miles Per Gallon column) and draw a histogram\n",
    "plt.hist(cars['mpg'],bins=15)\n",
    "#Set xlabel: Miles per gallon\n",
    "plt.xlabel(\"Miles per gallon\")\n",
    "#Set ylabel: Frequency\n",
    "plt.ylabel(\"Frequency\")\n",
    "#Set title as Miles Per Gallon Histogram\n",
    "plt.title(\"Miles per Gallen Histogram\")\n",
    "plt.show()"
   ]
  },
  {
   "cell_type": "markdown",
   "id": "a0624c41-4d2d-4ab3-8426-6dbe3593d69c",
   "metadata": {},
   "source": [
    "4. Draw a boxplot on the card dataframes hp column\n",
    "i. Set xlabel: Car Horsepower\n",
    "ii. Set title as Boxplot for car horsepower\n",
    "iii. Use hp column to generate a boxplo"
   ]
  },
  {
   "cell_type": "code",
   "execution_count": 44,
   "id": "d359c520-8a35-4fba-8140-29da9150b047",
   "metadata": {},
   "outputs": [
    {
     "data": {
      "image/png": "[encoded data removed]",
      "text/plain": [
       "<Figure size 640x480 with 1 Axes>"
      ]
     },
     "metadata": {},
     "output_type": "display_data"
    }
   ],
   "source": [
    "#Draw a boxplot on the card dataframes hp column\n",
    "plt.boxplot(cars['hp'],showmeans=True)\n",
    "#Set xlabel: Car Horsepower\n",
    "plt.xlabel(\"Car Horsepower\")\n",
    "#Set title as Boxplot for car horsepower\n",
    "plt.title(\"Boxplot foe car horsepower\")\n",
    "plt.grid(True)\n",
    "plt.show()"
   ]
  },
  {
   "cell_type": "code",
   "execution_count": null,
   "id": "1bba0f5e-1d08-4915-b91a-7ae9e529d247",
   "metadata": {},
   "outputs": [],
   "source": []
  }
 ],
 "metadata": {
  "kernelspec": {
   "display_name": "Python 3 (ipykernel)",
   "language": "python",
   "name": "python3"
  },
  "language_info": {
   "codemirror_mode": {
    "name": "ipython",
    "version": 3
   },
   "file_extension": ".py",
   "mimetype": "text/x-python",
   "name": "python",
   "nbconvert_exporter": "python",
   "pygments_lexer": "ipython3",
   "version": "3.9.13"
  }
 },
 "nbformat": 4,
 "nbformat_minor": 5
}
